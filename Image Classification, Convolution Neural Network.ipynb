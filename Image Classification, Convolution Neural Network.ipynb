{
 "cells": [
  {
   "cell_type": "code",
   "execution_count": 1,
   "metadata": {},
   "outputs": [
    {
     "name": "stderr",
     "output_type": "stream",
     "text": [
      "Using TensorFlow backend.\n"
     ]
    }
   ],
   "source": [
    "#Importing required modules\n",
    "from keras.models import Sequential\n",
    "from keras.layers import Convolution2D\n",
    "from keras.layers import MaxPooling2D\n",
    "from keras.layers import Flatten\n",
    "from keras.layers import Dense"
   ]
  },
  {
   "cell_type": "code",
   "execution_count": 2,
   "metadata": {
    "collapsed": true
   },
   "outputs": [],
   "source": [
    "#Initializing the CNN\n",
    "classifier = Sequential()"
   ]
  },
  {
   "cell_type": "code",
   "execution_count": 3,
   "metadata": {},
   "outputs": [
    {
     "name": "stderr",
     "output_type": "stream",
     "text": [
      "C:\\Users\\Dell\\Anaconda3\\lib\\site-packages\\ipykernel_launcher.py:2: UserWarning: Update your `Conv2D` call to the Keras 2 API: `Conv2D(32, (3, 3), input_shape=(64, 64, 3..., activation=\"relu\")`\n",
      "  \n"
     ]
    }
   ],
   "source": [
    "#Adding Convolution layer\n",
    "classifier.add(Convolution2D(32,3,3, input_shape = (64,64,3), activation = 'relu'))"
   ]
  },
  {
   "cell_type": "code",
   "execution_count": 4,
   "metadata": {
    "collapsed": true
   },
   "outputs": [],
   "source": [
    "#Adding pooling layer\n",
    "classifier.add(MaxPooling2D(pool_size = (2,2)))"
   ]
  },
  {
   "cell_type": "code",
   "execution_count": 5,
   "metadata": {
    "collapsed": true
   },
   "outputs": [],
   "source": [
    "#Adding flattening layer\n",
    "classifier.add(Flatten())"
   ]
  },
  {
   "cell_type": "code",
   "execution_count": 6,
   "metadata": {},
   "outputs": [
    {
     "name": "stderr",
     "output_type": "stream",
     "text": [
      "C:\\Users\\Dell\\Anaconda3\\lib\\site-packages\\ipykernel_launcher.py:2: UserWarning: Update your `Dense` call to the Keras 2 API: `Dense(activation=\"relu\", units=128)`\n",
      "  \n",
      "C:\\Users\\Dell\\Anaconda3\\lib\\site-packages\\ipykernel_launcher.py:3: UserWarning: Update your `Dense` call to the Keras 2 API: `Dense(activation=\"sigmoid\", units=1)`\n",
      "  This is separate from the ipykernel package so we can avoid doing imports until\n"
     ]
    }
   ],
   "source": [
    "#Fully Connected layer\n",
    "classifier.add(Dense(output_dim = 128, activation = 'relu'))\n",
    "classifier.add(Dense(output_dim = 1, activation = 'sigmoid'))"
   ]
  },
  {
   "cell_type": "code",
   "execution_count": 7,
   "metadata": {
    "collapsed": true
   },
   "outputs": [],
   "source": [
    "#Compiling the CNN\n",
    "classifier.compile(optimizer = 'adam', loss = 'binary_crossentropy', metrics = ['accuracy'])"
   ]
  },
  {
   "cell_type": "code",
   "execution_count": 9,
   "metadata": {},
   "outputs": [
    {
     "name": "stdout",
     "output_type": "stream",
     "text": [
      "Found 8000 images belonging to 2 classes.\n",
      "Found 2000 images belonging to 2 classes.\n",
      "Epoch 1/20\n",
      "8000/8000 [==============================] - 3663s 458ms/step - loss: 0.4253 - acc: 0.7959 - val_loss: 0.6390 - val_acc: 0.7493\n",
      "Epoch 2/20\n",
      "8000/8000 [==============================] - 3248s 406ms/step - loss: 0.1956 - acc: 0.9208 - val_loss: 1.0303 - val_acc: 0.7570\n",
      "Epoch 3/20\n",
      "8000/8000 [==============================] - 3245s 406ms/step - loss: 0.1088 - acc: 0.9593 - val_loss: 1.3521 - val_acc: 0.7412\n",
      "Epoch 4/20\n",
      "8000/8000 [==============================] - 3237s 405ms/step - loss: 0.0758 - acc: 0.9723 - val_loss: 1.4774 - val_acc: 0.7530\n",
      "Epoch 5/20\n",
      "8000/8000 [==============================] - 3274s 409ms/step - loss: 0.0594 - acc: 0.9791 - val_loss: 1.6735 - val_acc: 0.7432\n",
      "Epoch 6/20\n",
      "8000/8000 [==============================] - 3236s 405ms/step - loss: 0.0491 - acc: 0.9826 - val_loss: 1.6539 - val_acc: 0.7545\n",
      "Epoch 7/20\n",
      "8000/8000 [==============================] - 3248s 406ms/step - loss: 0.0403 - acc: 0.9863 - val_loss: 1.8349 - val_acc: 0.7448\n",
      "Epoch 8/20\n",
      "8000/8000 [==============================] - 3280s 410ms/step - loss: 0.0359 - acc: 0.9879 - val_loss: 1.8139 - val_acc: 0.7451\n",
      "Epoch 9/20\n",
      "8000/8000 [==============================] - 35309s 4s/step - loss: 0.0323 - acc: 0.9897 - val_loss: 2.0452 - val_acc: 0.7377\n",
      "Epoch 10/20\n",
      "8000/8000 [==============================] - 3250s 406ms/step - loss: 0.0291 - acc: 0.9906 - val_loss: 1.9926 - val_acc: 0.7558\n",
      "Epoch 11/20\n",
      "8000/8000 [==============================] - 3613s 452ms/step - loss: 0.0258 - acc: 0.9916 - val_loss: 2.0733 - val_acc: 0.7436\n",
      "Epoch 12/20\n",
      "8000/8000 [==============================] - 3735s 467ms/step - loss: 0.0247 - acc: 0.9920 - val_loss: 2.0747 - val_acc: 0.7469\n",
      "Epoch 13/20\n",
      "8000/8000 [==============================] - 3708s 464ms/step - loss: 0.0209 - acc: 0.9933 - val_loss: 2.0684 - val_acc: 0.7508\n",
      "Epoch 14/20\n",
      "8000/8000 [==============================] - 3527s 441ms/step - loss: 0.0215 - acc: 0.9934 - val_loss: 2.0578 - val_acc: 0.7570\n",
      "Epoch 15/20\n",
      "8000/8000 [==============================] - 3517s 440ms/step - loss: 0.0190 - acc: 0.9940 - val_loss: 2.1534 - val_acc: 0.7486\n",
      "Epoch 16/20\n",
      "8000/8000 [==============================] - 3897s 487ms/step - loss: 0.0171 - acc: 0.9944 - val_loss: 2.1190 - val_acc: 0.7465\n",
      "Epoch 17/20\n",
      "8000/8000 [==============================] - 3717s 465ms/step - loss: 0.0177 - acc: 0.9948 - val_loss: 2.1154 - val_acc: 0.7543\n",
      "Epoch 18/20\n",
      "8000/8000 [==============================] - 3880s 485ms/step - loss: 0.0145 - acc: 0.9954 - val_loss: 2.1681 - val_acc: 0.7519\n",
      "Epoch 19/20\n",
      "8000/8000 [==============================] - 3439s 430ms/step - loss: 0.0148 - acc: 0.9954 - val_loss: 2.3001 - val_acc: 0.7504\n",
      "Epoch 20/20\n",
      "8000/8000 [==============================] - 81427s 10s/step - loss: 0.0140 - acc: 0.9956 - val_loss: 2.3161 - val_acc: 0.7471\n"
     ]
    },
    {
     "data": {
      "text/plain": [
       "<keras.callbacks.History at 0x2018d17e2b0>"
      ]
     },
     "execution_count": 9,
     "metadata": {},
     "output_type": "execute_result"
    }
   ],
   "source": [
    "#Fitting the CNN\n",
    "from keras.preprocessing.image import ImageDataGenerator\n",
    "train_datagen = ImageDataGenerator(\n",
    "        rescale=1./255,\n",
    "        shear_range=0.2,\n",
    "        zoom_range=0.2,\n",
    "        horizontal_flip=True)\n",
    "\n",
    "test_datagen = ImageDataGenerator(rescale=1./255)\n",
    "\n",
    "train_generator = train_datagen.flow_from_directory(\n",
    "        'C:\\\\Users\\\\Dell\\\\Downloads\\\\Convolutional_Neural_Networks\\\\dataset\\\\training_set',\n",
    "        target_size=(64, 64),\n",
    "        batch_size=32,\n",
    "        class_mode='binary')\n",
    "\n",
    "validation_generator = test_datagen.flow_from_directory(\n",
    "        'C:\\\\Users\\\\Dell\\\\Downloads\\\\Convolutional_Neural_Networks\\\\dataset\\\\test_set',\n",
    "        target_size=(64, 64),\n",
    "        batch_size=32,\n",
    "        class_mode='binary')\n",
    "\n",
    "classifier.fit_generator(\n",
    "        train_generator,\n",
    "        steps_per_epoch=8000,\n",
    "        epochs=20,\n",
    "        validation_data=validation_generator,\n",
    "        validation_steps=2000)"
   ]
  },
  {
   "cell_type": "code",
   "execution_count": null,
   "metadata": {
    "collapsed": true
   },
   "outputs": [],
   "source": []
  }
 ],
 "metadata": {
  "kernelspec": {
   "display_name": "Python 3",
   "language": "python",
   "name": "python3"
  },
  "language_info": {
   "codemirror_mode": {
    "name": "ipython",
    "version": 3
   },
   "file_extension": ".py",
   "mimetype": "text/x-python",
   "name": "python",
   "nbconvert_exporter": "python",
   "pygments_lexer": "ipython3",
   "version": "3.6.1"
  }
 },
 "nbformat": 4,
 "nbformat_minor": 2
}
